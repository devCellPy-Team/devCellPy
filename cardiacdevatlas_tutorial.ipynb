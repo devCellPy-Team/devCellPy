{
 "cells": [
  {
   "cell_type": "markdown",
   "metadata": {},
   "source": [
    "<a id='cardiac'></a>"
   ]
  },
  {
   "cell_type": "markdown",
   "metadata": {},
   "source": [
    "# Cardiac Developmental Atlas Option"
   ]
  },
  {
   "cell_type": "markdown",
   "metadata": {},
   "source": [
    "The Cardiac Developmental Atlas Option allows the user to predict the cell types in their own cardiac dataset based on the cardiac developmental atlas used in our paper (Galdos, Xu, et al. 2021). \n",
    "\n",
    "It can be accessed through the **`cardiacDevAtlas`** mode available in **predictOne** and **predictAll** `layerObjectPaths` argument. \n",
    "\n",
    "## REQUIRED USER INPUTS:\n",
    "\n",
    "- **runMode**: predictOne or predictAll\n",
    "- **predNormExpr**: normalized expression matrix csv file\n",
    "- **rejectionCutoff**: float between 0 and 1 denoting the minimum probability for a prediction to not be rejected\n",
    "- **timePoint**: float between 7.5 and 14\n",
    "    - Timepoints present within the cardiac developmental atlas include the following:\n",
    "        - E7.75\n",
    "        - E8.25\n",
    "        - E9.25\n",
    "        - E10.5\n",
    "        - E13.5\n",
    "    - Any timepoint between E7.5 and E14 is rounded to the nearest timepoint in the selection above.\n",
    "\n",
    "##### EXAMPLE: \n",
    "`cellpy --runMode predictAll --rejectionCutoff 0.5 --predNormExpr /cellpy_example/cardiac_normalized.csv --layerObjectPaths cardiacDevAtlas --timePoint 13`\n"
   ]
  },
  {
   "cell_type": "markdown",
   "metadata": {},
   "source": [
    "## Analysis of cardiacDevAtlas option in R\n",
    "\n",
    "The following example uses the **predictAll** CellPy option with **`cardiacDevAtlas`** in the `layerObjectPaths` argument. The query dataset in this example is the dataset (Galdos, Xu, et al. 2021) using mouse E10.5 hearts that were collected in this manuscript. "
   ]
  },
  {
   "cell_type": "code",
   "execution_count": null,
   "metadata": {},
   "outputs": [],
   "source": [
    "#R-analysis\n",
    "library(Seurat)\n",
    "library(dplyr)\n",
    "numcols = max(count.fields(\"~/Downloads/predictionall_reject0.5.csv\", sep = ','))\n",
    "\n",
    "prediction = read.table(\"~/Downloads/predictionall_reject0.5.csv\", header = FALSE, sep = \",\", \n",
    "                        col.names = paste0(\"V\",seq_len(numcols)), fill = TRUE)\n",
    "\n",
    "cellpy_preds = data.frame(prediction)\n",
    "head(cellpy_preds)\n",
    "\n",
    "#replace blanks in dataframe with <NA>\n",
    "cellpy_preds1 <- cellpy_preds\n",
    "cellpy_preds1[cellpy_preds1 == \"\"] <- NA \n",
    "head(cellpy_preds1)\n",
    "\n",
    "galdos = readRDS(\"~/Downloads/galdos_final.object_05172021.rds\")\n",
    "\n",
    "galdos_barcodes = rownames(galdos@meta.data)\n",
    "\n",
    "cellpy_preds2 <- cellpy_preds1[ cellpy_preds1$V1 %in% galdos_barcodes, ]\n",
    "\n",
    "#match order of barcodes with seurat object\n",
    "cellpy_preds3 = cellpy_preds2[match(galdos_barcodes, cellpy_preds2$V1), ] \n",
    "\n",
    "\n",
    "galdos[[\"Celltype1_pred_50\"]] <- cellpy_preds3$V2\n",
    "galdos[[\"Celltype2_pred_50\"]] <- cellpy_preds3$V3\n",
    "galdos[[\"Celltype3_pred_50\"]] <- cellpy_preds3$V4"
   ]
  },
  {
   "cell_type": "code",
   "execution_count": null,
   "metadata": {},
   "outputs": [],
   "source": [
    "DimPlot(galdos, group.by=\"Celltype1_pred_50\", reduction = \"umap\", pt.size = 0.5) "
   ]
  },
  {
   "cell_type": "code",
   "execution_count": null,
   "metadata": {},
   "outputs": [],
   "source": [
    "[TODO: add figures for 0.5 and 0.8 side by side!!!!!!!!!!!!!!!!!!!!!!!!!]"
   ]
  },
  {
   "cell_type": "code",
   "execution_count": null,
   "metadata": {},
   "outputs": [],
   "source": [
    "DimPlot(galdos, group.by=\"Celltype3_pred_50\", reduction = \"umap\", pt.size = 0.5) "
   ]
  },
  {
   "cell_type": "code",
   "execution_count": null,
   "metadata": {},
   "outputs": [],
   "source": [
    "[TODO: add figures for 0.5 and 0.8 side by side!!!!!!!!!!!!!!!!!!!!!!!!!]"
   ]
  },
  {
   "cell_type": "code",
   "execution_count": null,
   "metadata": {},
   "outputs": [],
   "source": [
    "DimPlot(galdos, group.by=\"Celltype3_pred_50\", reduction = \"umap\", pt.size = 0.5) "
   ]
  },
  {
   "cell_type": "code",
   "execution_count": null,
   "metadata": {},
   "outputs": [],
   "source": [
    "[TODO: add figures for 0.5 and 0.8 side by side!!!!!!!!!!!!!!!!!!!!!!!!!]"
   ]
  },
  {
   "cell_type": "code",
   "execution_count": null,
   "metadata": {},
   "outputs": [],
   "source": [
    "#heatmaps\n",
    "Idents(galdos) <- galdos$Celltype1_pred_50\n",
    "\n",
    "galdos.markers <- FindAllMarkers(galdos, only.pos = TRUE, min.pct = 0.25, logfc.threshold = 0.25)\n",
    "galdos.markers %>% group_by(cluster) %>% top_n(n = 2, wt = avg_log2FC)\n",
    "top10 <- galdos.markers %>% group_by(cluster) %>% top_n(n = 10, wt = avg_log2FC)\n",
    "\n",
    "png(filename=\"~/Desktop/galdos_Celltype1_pred_50_heatmap.png\", width=1400, height=1100)\n",
    "par(mar=c(5,6,4,100)+.1)\n",
    "DoHeatmap(galdos, features = top10$gene, size = 6, angle=90) + NoLegend()\n",
    "dev.off()"
   ]
  },
  {
   "cell_type": "code",
   "execution_count": null,
   "metadata": {},
   "outputs": [],
   "source": [
    "[TODO: add heatmaps!!!!!!!!!!!!]"
   ]
  },
  {
   "cell_type": "markdown",
   "metadata": {},
   "source": [
    "Comparison with heatmap generated when datasets ran with a predictAll rejection cutoff of 0.8:"
   ]
  },
  {
   "cell_type": "code",
   "execution_count": null,
   "metadata": {},
   "outputs": [],
   "source": [
    "[TODO: add heatmaps!!!!!!!!!!!!]"
   ]
  },
  {
   "cell_type": "code",
   "execution_count": null,
   "metadata": {},
   "outputs": [],
   "source": []
  }
 ],
 "metadata": {
  "kernelspec": {
   "display_name": "Python 3",
   "language": "python",
   "name": "python3"
  },
  "language_info": {
   "codemirror_mode": {
    "name": "ipython",
    "version": 3
   },
   "file_extension": ".py",
   "mimetype": "text/x-python",
   "name": "python",
   "nbconvert_exporter": "python",
   "pygments_lexer": "ipython3",
   "version": "3.7.1"
  }
 },
 "nbformat": 4,
 "nbformat_minor": 4
}
