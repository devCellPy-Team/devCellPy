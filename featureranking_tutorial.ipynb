{
 "cells": [
  {
   "cell_type": "markdown",
   "metadata": {},
   "source": [
    "<a id='featureranking'></a>"
   ]
  },
  {
   "cell_type": "markdown",
   "metadata": {},
   "source": [
    "# CellPy Feature Ranking\n",
    "\n",
    "## Feature Ranking Options\n",
    "\n",
    "featureRankingOne is a CellPy option that allows the user to rank the genes in the single cell RNA training dataset according to their contributions toward the XGBoost models' predictions. More influential genes (known as features) will be ranked higher, giving the user insight into how the algorithm makes its predictions. Feature ranking utilizes the SHAP package and evaluates the importance (Shapley value (Lundberg, etal., 2020)) of each gene toward the XGBoost models' predictions. The parameters the user inputs for this option should therefore only be the csv files used in training for an accurate interpretation of each **Layer**. The required parameters and sample code required to run each are listed below.\n",
    "\n",
    "*Note: CellPy creates and stores information from model training in **Layer** objects, including the name of the layer, its depth in metadata files, the dictionary associated with each layer, and the XGBoost model itself. Prediction and feature ranking require **Layer** objects as input and can therefore only be run after **trainAll** has been completed. Details for the **Layer** class can be found at the end of this tutorial.*\n",
    "\n",
    "featureRankingOne: Conduct feature ranking analysis on provided Layer objects with the SHAP package\n",
    "* (runMode = featureRankingOne, trainNormExpr, trainMetadata, layerObjectPaths, featureRankingSplit)\n",
    "* Example: `cellpy --runMode featureRankingOne --trainNormExpr /cellpy_example/zheng_pbmc_10K.csv --trainMetadata /cellpy_example/zheng_pbmc_10K_metadata.csv --layerObjectPaths /cellpy_example/cellpy_results_20210720155257/training/Root_object.pkl,/cellpy_example/cellpy_results_20210720155257/training/CD4_object.pkl,/cellpy_example/cellpy_results_20210720155257/training/CD8_object.pkl,/cellpy_example/cellpy_results_20210720155257/training/T-cell_object.pkl --featureRankingSplit 0.1`"
   ]
  },
  {
   "cell_type": "markdown",
   "metadata": {},
   "source": [
    "## REQUIRED USER INPUTS:\n",
    "\n",
    "-  **trainNormExpr**: normalized expression matrix file\n",
    "-  **trainMetadata**: metadata file\n",
    "-  **layerObjectPaths**: a list of path names to Layer objects\n",
    "-  **featureRankingSplit (optional)**: float between 0 and 1 denoting the percentage of data to calculate SHAP importances, default is 0.3\n",
    "\n",
    "## OUTPUT OF FEATURERANKINGONE:\n",
    "\n",
    "* creates directory 'featureranking' in cellpy_results folder, defining 'Root' as the topmost (first) layer\n",
    "* graphs with top 10 genes for all classes\n",
    "* graphs with top 10 genes for each class\n",
    "* csv file of all shapley values for all genes"
   ]
  },
  {
   "cell_type": "markdown",
   "metadata": {},
   "source": [
    "## DETAILS OF REQUIRED USER INPUTS:\n",
    "\n",
    "### trainNormExpr\n",
    "\n",
    "##### FORMAT: csv file\n",
    "\n",
    "-  cell 0,0 / A1 is 'gene'\n",
    "-  first column contains gene names\n",
    "-  first row contains cell names\n",
    "-  eg. cell [i,j] is the gene expression value in cell (j-1) for gene (i-1)\n",
    "\n",
    "##### EXAMPLE:\n",
    "\n",
    "`gene,AAACCCAG........,AAACGAAC........,AAACGAAT........,GAGGGATC........\n",
    "MIR1302-10,0,2.14693417019908,2.31409562022533,0\n",
    "OR4F29,0,1.71783906814673,0,0\n",
    "LINC00115,0,0,0,2.8499342352407\n",
    "ISG15,2.99811039595896,0,2.41534932603235,0`\n",
    "\n",
    "### trainMetadata\n",
    "\n",
    "##### FORMAT: csv file\n",
    "\n",
    "-  cell 0,0 / A1 should be NA or empty\n",
    "-  first column contains cell names, should be in the same order as first row of trainNormExpr\n",
    "-  each column following contains the layered identification for each cell\n",
    "-  all other cells should be NA or empty\n",
    "\n",
    "##### EXAMPLE:\n",
    "\n",
    "`,Celltype1,Celltype2,Celltype3\n",
    "AAACCCAG........,Monocyte,NA,NA\n",
    "AAACGAAC........,NK,NA,NA\n",
    "AAACGAAT........,Macrophage,NA,NA\n",
    "GAGGGATC........,T-cell,\"CD8,\"Effector Memory CD8`\n",
    "\n",
    "### layerObjectPaths\n",
    "\n",
    "##### FORMAT: a comma-separated list of paths to the trained Layer objects (pickle .pkl files)\n",
    "-  not all models have to be provided, can conduct feature ranking on individual targetted layers\n",
    "* *NOTE: do not rename the .pkl Layer objects*\n",
    "\n",
    "##### EXAMPLE:\n",
    "\n",
    "`/scratch/groups/smwu/sidraxu/pbmc_10k_metadata.csv --layerObjectPaths /scratch/groups/smwu/sidraxu/cellpy_results_20210720155257/training/Root_object.pkl,/scratch/groups/smwu/sidraxu/cellpy_results_20210720155257/training/CD4_object.pkl,/scratch/groups/smwu/sidraxu/cellpy_results_20210720155257/training/CD8_object.pkl,/scratch/groups/smwu/sidraxu/cellpy_results_20210720155257/training/T-cell_object.pkl`\n",
    "\n",
    "### featureRankingSplit (Optional, Default = 0.3)\n",
    "\n",
    "##### FORMAT: float between 0 and 1\n",
    "\n",
    "-  a rejection cutoff of 0.5 means a cell will be regarded as \"Unclassified\" if no class has a predicted probability greater than 50%\n",
    "-  taking into consideration computational limitations, the default value for the amount of data sampled for feature ranking from the training data is 0.3 (30%)\n",
    "-  the holdout dataset is stratified and preserves the proportions of the cell labels in the original dataset"
   ]
  },
  {
   "cell_type": "markdown",
   "metadata": {},
   "source": [
    "# Back to Table of Contents\n",
    "\n",
    "[Table of Contents](tableofcontents.ipynb#toc)"
   ]
  }
 ],
 "metadata": {
  "kernelspec": {
   "display_name": "Python 3",
   "language": "python",
   "name": "python3"
  },
  "language_info": {
   "codemirror_mode": {
    "name": "ipython",
    "version": 3
   },
   "file_extension": ".py",
   "mimetype": "text/x-python",
   "name": "python",
   "nbconvert_exporter": "python",
   "pygments_lexer": "ipython3",
   "version": "3.8.8"
  }
 },
 "nbformat": 4,
 "nbformat_minor": 4
}
