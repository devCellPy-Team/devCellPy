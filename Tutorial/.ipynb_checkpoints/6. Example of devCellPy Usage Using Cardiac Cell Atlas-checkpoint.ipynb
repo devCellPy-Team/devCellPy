{
 "cells": [
  {
   "cell_type": "markdown",
   "metadata": {},
   "source": [
    "# 7. Training and Prediction Example Using Cardiac Cell Atlas"
   ]
  },
  {
   "cell_type": "markdown",
   "metadata": {},
   "source": [
    "The following examples demonstrate how to use the Cardiac Cell Atlas to Train the devCellPy algorithm as well as to use the algorithm for prediction of sample data. \n",
    "\n",
    "***Note: Please note that some of the script below are written in R code and other in bash. These will be clearly noted below. "
   ]
  },
  {
   "cell_type": "markdown",
   "metadata": {},
   "source": [
    "## Setting Up Files for Training devCellPy"
   ]
  },
  {
   "cell_type": "markdown",
   "metadata": {},
   "source": [
    "Export Normalized Expression data as a CSV File from the Cardiac Atlas Seurat Object that can be found at: \n",
    "    https://zenodo.org/records/7183939#.Y0TuEC-B3T8 under name \"cardiac_atlas_seurat_object.rds\"\n",
    "    \n",
    "Alternatively, the cardiac atlas Seurat object can be converted to an H5AD file as used with scanPy. \n",
    "\n",
    "devCellPy allows for the use of either the normalized expression data as a CSV file for an H5AD object. \n",
    "\n",
    "***Below we illustrate how to export the Normalized Expression CSV file in R as well as how to convert the cardiac atlas Seurat object to an H5AD file. \n",
    "   "
   ]
  },
  {
   "cell_type": "markdown",
   "metadata": {},
   "source": [
    "### Export Normalized Expression Data as CSV"
   ]
  },
  {
   "cell_type": "code",
   "execution_count": null,
   "metadata": {},
   "outputs": [],
   "source": [
    "# R Code\n",
    "\n",
    "## Import Required R Packages\n",
    "library(Seurat)\n",
    "library(scrattch.io)\n",
    "\n",
    "## Read in Cardiac Atlas Object\n",
    "cardiacatlas = readRDS(\"/path/to/cardiac_atlas_seurat_object.rds\")\n",
    "\n",
    "## Export Normalized Expression Data as CSV File\n",
    "\n",
    "write_dgCMatrix_csv(cardiacatlas@assays$RNA@data, \"/path/to/cardiacatlas_norm_express.csv\")\n"
   ]
  },
  {
   "cell_type": "markdown",
   "metadata": {},
   "source": [
    "### Convert Seurat Object to H5AD Object"
   ]
  },
  {
   "cell_type": "code",
   "execution_count": null,
   "metadata": {},
   "outputs": [],
   "source": [
    "# R Code\n",
    "\n",
    "## Import Required R Packages\n",
    "library(Seurat)\n",
    "library(SeuratDisk)\n",
    "\n",
    "## Read in Cardiac Atlas Object\n",
    "cardiacatlas = readRDS(\"/path/to/cardiac_atlas_seurat_object.rds\")\n",
    "\n",
    "## Save Object as a SeuratDisk \n",
    "\n",
    "SaveH5Seurat(cardiacatlas, \"/path/to/cardiacatlas.h5seurat\")\n",
    "\n",
    "## Convert SeuratDisk Object to AnnData H5AD\n",
    "## Note: this will save the H5seurat as \"cardiacatlas.h5ad\". The .X slot will contain normalized expression data\n",
    "\n",
    "Convert(\"/path/to/cardiacatlas.h5seurat\", dest = \"h5ad\")\n"
   ]
  },
  {
   "cell_type": "markdown",
   "metadata": {},
   "source": [
    "### Create Bash Variables with Input File Paths"
   ]
  },
  {
   "cell_type": "markdown",
   "metadata": {},
   "source": [
    "Three files are required for training devCellPy including:\n",
    "1. Normalized expression file (can be csv or H5AD object)\n",
    "2. Metadata File \n",
    "3. Label File\n",
    "\n",
    "Please refer to Section 2 of the Training Tutorial for more in-depth explanation of each of these file types.\n",
    "\n",
    "***Note: Metadata and Label Files for the Cardiac Atlas can be found at the Zenodo link:\n",
    "  https://zenodo.org/records/7183939#.Y0TuEC-B3T8 "
   ]
  },
  {
   "cell_type": "code",
   "execution_count": null,
   "metadata": {},
   "outputs": [],
   "source": [
    "# Bash Code\n",
    "\n",
    "## Normalized Expression File (can be path to CSV or H5AD object)\n",
    "\n",
    "norm_express= \"/path/to/cardiac_atlas_norm_express.csv\"\n",
    "\n",
    "## Metadata File For All Cells\n",
    "\n",
    "metadata_file= \"/path/to/cardiac_atlas_metadata.csv\"\n",
    "\n",
    "# Label Files for Layered Training\n",
    "\n",
    "label_file = \"/path/to/cardiac_atlas_labels.csv\"\n"
   ]
  },
  {
   "cell_type": "markdown",
   "metadata": {},
   "source": [
    "## Training devCellPy Using Cardiac Atlas"
   ]
  },
  {
   "cell_type": "code",
   "execution_count": null,
   "metadata": {},
   "outputs": [],
   "source": [
    "# Bash Code\n",
    "\n",
    "## Run devCellPy Training\n",
    "## Note that given that our atlas contains multiple timepoints, we  designate which layer contains timepoint info\n",
    "\n",
    "    \n",
    "## TrainAll: training all layers w/o cross validation and metrics. Note: \"--testSplit\" is removed. \n",
    "devCellpy \n",
    "    --runMode trainAll \n",
    "    --trainNormExpr $norm_express \n",
    "    --trainMetadata $metadata_file \n",
    "    --labelInfo $label_info \n",
    "    --rejectionCutoff 0.5 \n",
    "    --timepointLayer \"Cardiomyocytes\"\n",
    "    \n",
    "\n",
    "## TrainAll: training all layers w/ cross validation and metrics. Take longer to run due to additional calculations\n",
    "devCellpy \n",
    "    --runMode trainAll \n",
    "    --trainNormExpr $norm_express \n",
    "    --trainMetadata $metadata_file \n",
    "    --labelInfo $label_info \n",
    "    --rejectionCutoff 0.5 \n",
    "    --testSplit 0.1 \n",
    "    --timepointLayer \"Cardiomyocytes\"\n",
    "    "
   ]
  },
  {
   "cell_type": "markdown",
   "metadata": {},
   "source": [
    "## Feature Ranking to Retrieve Gene Importance Information"
   ]
  },
  {
   "cell_type": "markdown",
   "metadata": {},
   "source": [
    "Below we show how to run Feature Ranking Using the SHAP algorithm implemented within devCellPy. The path must be given to the .pkl which contains the devCellPy trained LayerObject that will be used to identify top positive and negative gene predictors of cell types. \n",
    "\n",
    "While multiple pickle objects can be given as input paths, users using a computing cluster may find it more useful to run these commands for each object separately for each LayerObject. "
   ]
  },
  {
   "cell_type": "code",
   "execution_count": null,
   "metadata": {},
   "outputs": [],
   "source": [
    "#Bash Code\n",
    "\n",
    "devCellPy \n",
    "    --runMode featureRankingOne \n",
    "    --trainNormExpr $norm_express  \n",
    "    --trainMetadata $metadata_file \n",
    "    --layerObjectPaths /Cardiac_Atlas_Trained Model/Root_object.pkl\n",
    "    --featureRankingSplit 0.1"
   ]
  },
  {
   "cell_type": "markdown",
   "metadata": {},
   "source": [
    "## Prediction of New Data Using Trained devCellPy Object"
   ]
  },
  {
   "cell_type": "markdown",
   "metadata": {},
   "source": [
    "Below, we provide an example of how to use the trained devCellPy Cardiac Cell Atlas algorithm to predict new data. We illustrate how to conduct single layer prediction as well as to predict cell types across multiple layers.\n",
    "\n",
    "***Note: The prediction of single layer allows for users to obtain information on the prediction probabilities for all categories within the training dataset. "
   ]
  },
  {
   "cell_type": "markdown",
   "metadata": {},
   "source": [
    "### Set Up New Dataset Files for Prediction"
   ]
  },
  {
   "cell_type": "markdown",
   "metadata": {},
   "source": [
    "In this example we will use data from Li etal 2019 (PMID: 31142541) as input for prediction using the trained Cardiac Atlas. \n",
    "\n",
    "***Note: The Li etal 2019 Seurat object can be found in the devCellPy Github under folder \"Example Prediction Dataset:\n",
    "    https://github.com/devCellPy-Team/devCellPy/tree/main/Example%20Prediction%20Dataset"
   ]
  },
  {
   "cell_type": "code",
   "execution_count": null,
   "metadata": {},
   "outputs": [],
   "source": [
    "# R Code\n",
    "\n",
    "## Import Required R Packages\n",
    "library(Seurat)\n",
    "library(SeuratDisk)\n",
    "\n",
    "## Read in Li etal 2019 Object\n",
    "lietal2019 = readRDS(\"/path/to/lietal2019_object.rds\")\n",
    "\n",
    "## Export Normalized Expression Data as CSV File\n",
    "\n",
    "write_dgCMatrix_csv(lietal2019@assays$RNA@data, \"/path/to/lietal2019_norm_express.csv\")\n",
    "\n",
    "## Export as an H5AD objcet if desired\n",
    "\n",
    "SaveH5Seurat(lietal2019, \"/path/to/lietal2019.h5seurat\")\n",
    "Convert(\"/path/to/lietal2019.h5seurat\", dest = \"h5ad\")\n"
   ]
  },
  {
   "cell_type": "markdown",
   "metadata": {},
   "source": [
    "### Predict Cell types of New Dataset Using ONE Layer"
   ]
  },
  {
   "cell_type": "code",
   "execution_count": null,
   "metadata": {},
   "outputs": [],
   "source": [
    "PredictOne: prediction of query using single layer\n",
    "* (runMode = predictOne, predNormExpr, layerObjectPaths, rejectionCutoff)\n",
    "\n",
    "devCellPy\n",
    "    --runMode predictOne \n",
    "    --predNormExpr \"/path/to/lietal2019_norm_express.csv\"\n",
    "    --layerObjectPaths \"/Cardiac_Atlas_Trained_Model/Root_object.pkl\"\n",
    "    --rejectionCutoff 0.5"
   ]
  },
  {
   "cell_type": "markdown",
   "metadata": {},
   "source": [
    "### Predict Cell Types of New Data Across MULTIPLE Layers"
   ]
  },
  {
   "cell_type": "code",
   "execution_count": null,
   "metadata": {},
   "outputs": [],
   "source": [
    "PredictAll: prediction of all layers w/o val_metadata, each layer influences the next layer\n",
    "* (runMode = predictAll, predNormExpr, layerObjectPaths, rejectionCutoff)\n",
    "* Example: \n",
    "    \n",
    "devCellPy\n",
    "    --runMode predictAll \n",
    "    --predNormExpr \"/path/to/lietal2019_norm_express.csv\"\n",
    "    --layerObjectPaths \"/Cardiac_Atlas_Trained_Model/Root_object.pkl\",\n",
    "        \"/Cardiac_Atlas_Trained_Model/Cardiomyocytes/E825/E825_object.pkl\",\n",
    "        \"/Cardiac_Atlas_Trained_Model/Cardiomyocytes/E825/E825VentricularCM/E825VentricularCM_object.pkl\"\n",
    "    --rejectionCutoff 0.5"
   ]
  }
 ],
 "metadata": {
  "kernelspec": {
   "display_name": "Python 3",
   "language": "python",
   "name": "python3"
  },
  "language_info": {
   "codemirror_mode": {
    "name": "ipython",
    "version": 3
   },
   "file_extension": ".py",
   "mimetype": "text/x-python",
   "name": "python",
   "nbconvert_exporter": "python",
   "pygments_lexer": "ipython3",
   "version": "3.8.8"
  }
 },
 "nbformat": 4,
 "nbformat_minor": 4
}
