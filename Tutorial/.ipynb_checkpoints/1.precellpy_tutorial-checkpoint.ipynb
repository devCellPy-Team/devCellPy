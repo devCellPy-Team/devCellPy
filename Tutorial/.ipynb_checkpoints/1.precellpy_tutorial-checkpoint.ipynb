{
 "cells": [
  {
   "cell_type": "markdown",
   "metadata": {},
   "source": [
    "<a id='precellpy'></a>"
   ]
  },
  {
   "cell_type": "markdown",
   "metadata": {},
   "source": [
    "# 1. Pre-CellPy Data Preparation\n",
    "\n",
    "In order to train CellPy on a reference dataset, the algorithm requires a normalized expression matrix and cell annotation metadata for each layer that will be classified.\n",
    "\n",
    "This normalized expression matrix and metadata can be generated from the Seurat Object through the following R code:"
   ]
  },
  {
   "cell_type": "code",
   "execution_count": null,
   "metadata": {},
   "outputs": [],
   "source": [
    "#R code\n",
    "# Exporting the Normalized Gene Expression Matrix\n",
    "library(scrattch.io)\n",
    "write_dgCMatrix_csv(seurat.object@assays$RNA@data, \"~/cellpy_files/normalized_expression.csv\")\n",
    "\n",
    "# Exporting the MetaData For Cross Validation \n",
    "seurat.object_metadata = seurat.object@meta.data\n",
    "seurat.object_metadata = seurat.object_metadata[ , c(\"Celltype1\", \"Celltype2\", \"Timepoint\", \"Celltype3\")]\n",
    "write.csv(seurat.object_metadata,\"~/cellpy_files/metadata.csv\")"
   ]
  },
  {
   "cell_type": "markdown",
   "metadata": {},
   "source": [
    "The normalized expression matrix is fed into the command line under the argument **trainNormExpr** or **predNormExpr**. The metadata is fed into the command line under the argument **trainMetadata** or **predMetadata**. Please see the train_tutorial and predict_tutorial for required formatting of the normalized expression matrix and metadata."
   ]
  },
  {
   "cell_type": "markdown",
   "metadata": {},
   "source": [
    "# Back to Table of Contents\n",
    "\n",
    "[Table of Contents](tableofcontents.ipynb#toc)"
   ]
  }
 ],
 "metadata": {
  "kernelspec": {
   "display_name": "Python 3",
   "language": "python",
   "name": "python3"
  },
  "language_info": {
   "codemirror_mode": {
    "name": "ipython",
    "version": 3
   },
   "file_extension": ".py",
   "mimetype": "text/x-python",
   "name": "python",
   "nbconvert_exporter": "python",
   "pygments_lexer": "ipython3",
   "version": "3.8.8"
  }
 },
 "nbformat": 4,
 "nbformat_minor": 4
}
