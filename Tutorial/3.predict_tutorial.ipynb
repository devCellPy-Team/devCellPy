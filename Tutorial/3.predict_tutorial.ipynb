{
 "cells": [
  {
   "cell_type": "markdown",
   "metadata": {},
   "source": [
    "# 3. devCellPy Predict\n",
    "\n",
    "Predict mode allows users to use a trained devCellPy-prediction algorithm to make predictions on new datasets. Here we use the example of using the devCellPy trained algorithm on the Zheng etal. 2017 PBMC dataset to predict cell types in a new PBMC dataset provided by 10X Genomics (https://support.10xgenomics.com/single-cell-gene-expression/datasets/4.0.0/SC3_v3_NextGem_DI_PBMC_10K). devCellPy allows users to predict individual layers or to fully automate the prediction of across all layers of an annotation hierarchy. Below we provide examples for how to run these distinct options. \n",
    "\n",
    "\n",
    "## Predict Options\n",
    "\n",
    "*Note: devCellPy creates and stores information from model training in `Layer` objects, including the name of the layer, its depth in metadata files, the dictionary associated with each layer, and the XGBoost model itself. Prediction and feature ranking require `Layer` objects as input and can therefore only be run after `trainAll` has been completed. Details for the `Layer` class can be found at the end of this tutorial.*"
   ]
  },
  {
   "cell_type": "markdown",
   "metadata": {},
   "source": [
    "predictOne: prediction of layers w/ val_metadata, each layer is predicted independently\n",
    "* (runMode = predictOne, predNormExpr, predMetadata, layerObjectPaths, rejectionCutoff)\n",
    "* Example: "
   ]
  },
  {
   "cell_type": "code",
   "execution_count": null,
   "metadata": {},
   "outputs": [],
   "source": [
    "devcellpy --runMode predictOne --predNormExpr /devcellpy_example/pbmc_10k_normalized.csv --predMetadata /devcellpy_example/pbmc_10k_metadata.csv --layerObjectPaths /devcellpy_example/devcellpy_results_20210720155257/training/Root_object.pkl,/devcellpy_example/devcellpy_results_20210720155257/training/CD4_object.pkl,/devcellpy_example/devcellpy_results_20210720155257/training/CD8_object.pkl,/devcellpy_example/devcellpy_results_20210720155257/training/T-cell_object.pkl --rejectionCutoff 0.5"
   ]
  },
  {
   "cell_type": "markdown",
   "metadata": {},
   "source": [
    "predictOne: prediction of layers w/o val_metadata, each layer is predicted independently\n",
    "* (runMode = predictOne, predNormExpr, layerObjectPaths, rejectionCutoff)\n",
    "* Example: "
   ]
  },
  {
   "cell_type": "code",
   "execution_count": null,
   "metadata": {},
   "outputs": [],
   "source": [
    "devcellpy --runMode predictOne --predNormExpr /devcellpy_example/pbmc_10k_normalized.csv --layerObjectPaths /devcellpy_example/devcellpy_results_20210720155257/training/Root_object.pkl,/devcellpy_example/devcellpy_results_20210720155257/training/CD4_object.pkl,/devcellpy_example/devcellpy_results_20210720155257/training/CD8_object.pkl,/devcellpy_example/devcellpy_results_20210720155257/training/T-cell_object.pkl --rejectionCutoff 0.5"
   ]
  },
  {
   "cell_type": "markdown",
   "metadata": {},
   "source": [
    "predictAll: prediction of layers w/o val_metadata, each layer influences the next layer\n",
    "* (runMode = predictAll, predNormExpr, layerObjectPaths, rejectionCutoff)\n",
    "* Example: "
   ]
  },
  {
   "cell_type": "code",
   "execution_count": null,
   "metadata": {},
   "outputs": [],
   "source": [
    "devcellpy --runMode predictAll --predNormExpr /devcellpy_example/pbmc_10k_normalized.csv --layerObjectPaths /devcellpy_example/devcellpy_results_20210720155257/training/Root_object.pkl,/devcellpy_example/devcellpy_results_20210720155257/training/CD4_object.pkl,/devcellpy_example/devcellpy_results_20210720155257/training/CD8_object.pkl,/devcellpy_example/devcellpy_results_20210720155257/training/T-cell_object.pkl --rejectionCutoff 0.5"
   ]
  },
  {
   "cell_type": "markdown",
   "metadata": {},
   "source": [
    "## predictOne Option\n",
    "\n",
    "predictOne is a devCellPy option that allows the user to use the devCellPy algorithm to predict cell types in an **individual layer** in their single cell RNA query dataset based off of their previously trained dataset.\n",
    "\n",
    "### REQUIRED USER INPUTS:\n",
    "-  **predNormExpr**: normalized expression matrix file\n",
    "-  **predMetadata (optional)**: metadata file\n",
    "-  **layerObjectPaths**: a list of path names to Layer objects\n",
    "    - **NOTE:** the option `cardiacDevAtlas` can be directly utilized as an argument to layerObjectPaths to predict cell types in your cardiac dataset based on the cardiac developmental atlas used in our paper\n",
    "-  **rejectionCutoff**: float between 0 and 1 denoting the minimum probability for a prediction to not be rejected\n",
    "\n",
    "### predNormExpr\n",
    "\n",
    "##### FORMAT: csv file\n",
    "\n",
    "* contains normalized expression of genes for each single cell \n",
    "* first column: gene names\n",
    "* row headers: cell barcodes\n",
    "* row 1 column 1 is 'gene'\n",
    "\n",
    "##### EXAMPLE:\n",
    "\n",
    "`gene,AAACCCAG........,AAACGAAC........,AAACGAAT........,GAGGGATC........\n",
    "MIR1302-10,0,2.14693417019908,2.31409562022533,0\n",
    "OR4F29,0,1.71783906814673,0,0\n",
    "LINC00115,0,0,0,2.8499342352407\n",
    "ISG15,2.99811039595896,0,2.41534932603235,0`\n",
    "\n",
    "### predMetadata (Optional)\n",
    "predictMetadata option allows users to compare devCellPy predictions with a distinct method of annotation on a query dataset (i.e. manual annotation). \n",
    "\n",
    "##### FORMAT: csv file\n",
    "\n",
    "-  row 1, column 1 should be `NA`, ie. empty when opened in Excel\n",
    "-  first column contains cell names, should be in the same order as first row of trainNormExpr\n",
    "-  each column following contains the layered identification for each cell\n",
    "-  all other cells should be NA or empty\n",
    "* a single row contains a cell barcode and then the cell label corresponding to each subtype category\n",
    "*  all other cells should be `NA`, ie. empty when opened in Excel\n",
    "\n",
    "The prediction metadata file option allows the user to test the model on a new dataset.\n",
    "EXAMPLE:\n",
    "\n",
    "`,Celltype1,Celltype2,Celltype3\n",
    "AAACCCAG........,Monocyte,NA,NA\n",
    "AAACGAAC........,NK,NA,NA\n",
    "AAACGAAT........,Macrophage,NA,NA\n",
    "GAGGGATC........,T-cell,\"CD8,\"Effector Memory CD8`\n",
    "\n",
    "### layerObjectPaths\n",
    "\n",
    "##### FORMAT: a comma-separated list of paths to the trained Layer objects (pickle .pkl files)\n",
    "\n",
    "* Layer objects were created by trainOnly\n",
    "-  not all models have to be provided, can conduct prediction on individual targetted layers\n",
    "* **NOTE: do not rename the .pkl Layer objects*\n",
    "\n",
    "* the cardiac developmental atlas datasets found in our paper can be utilized as a training dataset by simply using the **`cardiacDevAtlas`** option instead of inputting your own Layer objects"
   ]
  },
  {
   "cell_type": "markdown",
   "metadata": {},
   "source": [
    "##### EXAMPLES:"
   ]
  },
  {
   "cell_type": "markdown",
   "metadata": {},
   "source": [
    "Training one layer:"
   ]
  },
  {
   "cell_type": "code",
   "execution_count": null,
   "metadata": {},
   "outputs": [],
   "source": [
    "--layerObjectPaths /scratch/groups/smwu/sidraxu/devcellpy_results_20210720155257/training/Root_object.pkl"
   ]
  },
  {
   "cell_type": "markdown",
   "metadata": {},
   "source": [
    "Training multiple layers (predicted individually):"
   ]
  },
  {
   "cell_type": "code",
   "execution_count": null,
   "metadata": {},
   "outputs": [],
   "source": [
    "\n",
    "--layerObjectPaths /scratch/groups/smwu/sidraxu/devcellpy_results_20210720155257/training/Root_object.pkl,/scratch/groups/smwu/sidraxu/devcellpy_results_20210720155257/training/CD4_object.pkl,/scratch/groups/smwu/sidraxu/devcellpy_results_20210720155257/training/CD8_object.pkl,/scratch/groups/smwu/sidraxu/devcellpy_results_20210720155257/training/T-cell_object.pkl"
   ]
  },
  {
   "cell_type": "markdown",
   "metadata": {},
   "source": [
    "### rejectionCutoff\n",
    "\n",
    "##### FORMAT: float between 0 and 1\n",
    "\n",
    "-  a rejection cutoff of 0.5 means a cell will be regarded as \"Unclassified\" if no class has a predicted probability greater than 50%\n",
    "* **NOTE: See \"Post-devCellPy Analysis in R\" section below for further analysis on varying rejection thresholds' impact on results."
   ]
  },
  {
   "cell_type": "code",
   "execution_count": null,
   "metadata": {},
   "outputs": [],
   "source": [
    "### OUTPUT OF PREDICT:\n",
    "\n",
    "![image.png](attachment:image.png)\n",
    "\n",
    "* creates directory \"predictOne\" in a folder named \"devcellpy_results_(time)\"\n",
    "* within \"predictOne\" there will be a separate folder for each Layer, with 'Root' being the first Layer\n",
    "* each Layer folder contains the following:\n",
    "    * csv files containing all the predictions and probabilities associated with each label for each cell\n",
    "    * metric files detailing accuracy, precision, recall, confusion matrix (if metadata file has been provided in input; only present for predictOne mode)\n",
    "\n",
    "![image-2.png](attachment:image-2.png)"
   ]
  },
  {
   "attachments": {},
   "cell_type": "markdown",
   "metadata": {},
   "source": [
    "## predictAll Option\n",
    "\n",
    "predictAll is a devCellPy option that allows the user to use the devCellPy algorithm to predict cell types in **all layers** of their single cell RNA query dataset based off of their previously trained dataset. Each layer of cell types predicted influences the predictions for the next layer.\n",
    "\n",
    "### REQUIRED USER INPUTS:\n",
    "-  **predNormExpr**: normalized expression matrix file\n",
    "-  **layerObjectPaths**: a list of path names to Layer objects\n",
    "    - **NOTE:** the option `cardiacDevAtlas` can be directly utilized as an argument to layerObjectPaths to predict cell types in your cardiac dataset based on the cardiac developmental atlas used in our paper\n",
    "-  **rejectionCutoff**: float between 0 and 1 denoting the minimum probability for a prediction to not be rejected\n",
    "\n",
    "### predNormExpr\n",
    "\n",
    "##### FORMAT: csv file\n",
    "\n",
    "* contains normalized expression of genes for each single cell \n",
    "* first column: gene names\n",
    "* row headers: cell barcodes\n",
    "* row 1 column 1 is 'gene'\n",
    "\n",
    "##### EXAMPLE:\n",
    "\n",
    "`gene,AAACCCAG........,AAACGAAC........,AAACGAAT........,GAGGGATC........\n",
    "MIR1302-10,0,2.14693417019908,2.31409562022533,0\n",
    "OR4F29,0,1.71783906814673,0,0\n",
    "LINC00115,0,0,0,2.8499342352407\n",
    "ISG15,2.99811039595896,0,2.41534932603235,0`\n",
    "\n",
    "### layerObjectPaths\n",
    "\n",
    "##### FORMAT: a comma-separated list of paths to the trained Layer objects (pickle .pkl files)\n",
    "\n",
    "* Layer objects were created by trainOnly\n",
    "-  not all models have to be provided, can conduct prediction on individual targetted layers\n",
    "* **NOTE: do not rename the .pkl Layer objects*\n",
    "\n",
    "* the cardiac developmental atlas datasets found in our paper can be utilized as a training dataset by simply using the **`cardiacDevAtlas`** option instead of inputting your own Layer objects"
   ]
  },
  {
   "cell_type": "markdown",
   "metadata": {},
   "source": [
    "##### EXAMPLE:"
   ]
  },
  {
   "cell_type": "code",
   "execution_count": null,
   "metadata": {},
   "outputs": [],
   "source": [
    "--layerObjectPaths /scratch/groups/smwu/sidraxu/devcellpy_results_20210720155257/training/Root_object.pkl,/scratch/groups/smwu/sidraxu/devcellpy_results_20210720155257/training/CD4_object.pkl,/scratch/groups/smwu/sidraxu/devcellpy_results_20210720155257/training/CD8_object.pkl,/scratch/groups/smwu/sidraxu/devcellpy_results_20210720155257/training/T-cell_object.pkl"
   ]
  },
  {
   "cell_type": "markdown",
   "metadata": {},
   "source": [
    "### rejectionCutoff\n",
    "\n",
    "##### FORMAT: float between 0 and 1\n",
    "\n",
    "-  a rejection cutoff of 0.5 means a cell will be regarded as \"Unclassified\" if no class has a predicted probability greater than 50%\n",
    "* **NOTE: See \"Post-devCellPy Analysis in R\" section below for further analysis on varying rejection thresholds' impact on results.\n",
    "\n",
    "### OUTPUT OF PREDICT:\n",
    "\n",
    "![image.png](attachment:image.png)\n",
    "\n",
    "* creates directory \"predictAll\" in a folder named \"devcellpy_results_(time)\"\n",
    "* \"predictAll\" will contain a csv file of the predictions at all layers assigned to each cell\n",
    "\n",
    "![image-2.png](attachment:image-2.png)"
   ]
  },
  {
   "cell_type": "markdown",
   "metadata": {},
   "source": [
    "# Back to Table of Contents\n",
    "\n",
    "[Table of Contents](0.tableofcontents.ipynb#toc)"
   ]
  }
 ],
 "metadata": {
  "kernelspec": {
   "display_name": "Python 3",
   "language": "python",
   "name": "python3"
  },
  "language_info": {
   "codemirror_mode": {
    "name": "ipython",
    "version": 3
   },
   "file_extension": ".py",
   "mimetype": "text/x-python",
   "name": "python",
   "nbconvert_exporter": "python",
   "pygments_lexer": "ipython3",
   "version": "3.8.0"
  }
 },
 "nbformat": 4,
 "nbformat_minor": 4
}
