{
 "cells": [
  {
   "attachments": {},
   "cell_type": "markdown",
   "metadata": {},
   "source": [
    "# 3. devCellPy Predict\n",
    "\n",
    "predictOne and predictAll are devCellPy options that allow users to use a trained devCellPy layered prediction algorithm to make predictions on new datasets. Here we use the example of using the devCellPy trained algorithm on the cardiac atlas PBMC dataset to predict cell types in a new cardiac dataset from Li et al (2016). devCellPy allows users to predict individual layers or to fully automate the prediction of across all layers of an annotation hierarchy. Below we provide examples for how to run these distinct options. \n",
    "\n",
    "\n",
    "## Predict Options\n",
    "\n",
    "*Note: devCellPy creates and stores information from model training in `Layer` objects, including the name of the layer, its depth in metadata files, the dictionary associated with each layer, and the XGBoost model itself. Prediction and feature ranking require `Layer` objects as input and can therefore only be run after `trainAll` has been completed. Details for the `Layer` class can be found at the end of this tutorial.*"
   ]
  },
  {
   "cell_type": "markdown",
   "metadata": {},
   "source": [
    "predictOne: prediction of layers w/ val_metadata, each layer is predicted independently\n",
    "* (runMode = predictOne, predNormExpr, predMetadata, layerObjectPaths, rejectionCutoff)\n",
    "* Example: "
   ]
  },
  {
   "cell_type": "raw",
   "metadata": {},
   "source": [
    "python3 main.py --runMode predictOne --predNormExpr /devcellpy_example/lietal_normexpr.csv --predMetadata /devcellpy_example/lietal_metadata.csv --layerObjectPaths /devcellpy_example/devcellpy_training_(time)/Root_object.pkl,/devcellpy_example/devcellpy_training_(time)/CD4_object.pkl,/devcellpy_example/devcellpy_training_(time)/CD8_object.pkl,/devcellpy_example/devcellpy_training_(time)/T-cell_object.pkl --rejectionCutoff 0.5"
   ]
  },
  {
   "cell_type": "markdown",
   "metadata": {},
   "source": [
    "predictOne: prediction of layers w/o val_metadata, each layer is predicted independently\n",
    "* (runMode = predictOne, predNormExpr, layerObjectPaths, rejectionCutoff)\n",
    "* Example: "
   ]
  },
  {
   "cell_type": "raw",
   "metadata": {},
   "source": [
    "python3 main.py --runMode predictOne --predNormExpr /devcellpy_example/lietal_normexpr.csv --layerObjectPaths /devcellpy_example/devcellpy_training_(time)/Root_object.pkl,/devcellpy_example/devcellpy_training_(time)/CD4_object.pkl,/devcellpy_example/devcellpy_training_(time)/CD8_object.pkl,/devcellpy_example/devcellpy_training_(time)/T-cell_object.pkl --rejectionCutoff 0.5"
   ]
  },
  {
   "cell_type": "markdown",
   "metadata": {},
   "source": [
    "predictAll: prediction of layers w/o val_metadata, each layer influences the next layer\n",
    "* (runMode = predictAll, predNormExpr, layerObjectPaths, rejectionCutoff)\n",
    "* Example: "
   ]
  },
  {
   "cell_type": "raw",
   "metadata": {},
   "source": [
    "python3 main.py --runMode predictOne --predNormExpr /devcellpy_example/lietal_normexpr.csv --layerObjectPaths /devcellpy_example/devcellpy_training_(time)/Root_object.pkl,/devcellpy_example/devcellpy_training_(time)/CD4_object.pkl,/devcellpy_example/devcellpy_training_(time)/CD8_object.pkl,/devcellpy_example/devcellpy_training_(time)/T-cell_object.pkl --rejectionCutoff 0.5"
   ]
  },
  {
   "cell_type": "markdown",
   "metadata": {},
   "source": [
    "## predictOne Option\n",
    "\n",
    "predictOne is a devCellPy option that allows the user to use the devCellPy algorithm to predict cell types in an **individual layer** in their single cell RNA query dataset based off of their previously trained dataset.\n",
    "\n",
    "### REQUIRED USER INPUTS:\n",
    "-  **predNormExpr**: normalized expression matrix file, csv file OR a scanpy h5ad file\n",
    "-  **predMetadata (optional)**: metadata file\n",
    "-  **layerObjectPaths**: a list of path names to Layer objects\n",
    "-  **rejectionCutoff**: float between 0 and 1 denoting the minimum probability for a prediction to not be rejected\n",
    "\n",
    "### predNormExpr\n",
    "\n",
    "##### FORMAT: csv file OR h5ad file\n",
    "\n",
    "Requirements for a csv file:\n",
    "* contains normalized expression of genes for each single cell \n",
    "* first column: gene names\n",
    "* row headers: cell barcodes\n",
    "* row 1 column 1 is 'gene'\n",
    "\n",
    "##### EXAMPLE:\n",
    "\n",
    "`gene,AAACCCAG........,AAACGAAC........,AAACGAAT........,GAGGGATC........\n",
    "MIR1302-10,0,2.14693417019908,2.31409562022533,0\n",
    "OR4F29,0,1.71783906814673,0,0\n",
    "LINC00115,0,0,0,2.8499342352407\n",
    "ISG15,2.99811039595896,0,2.41534932603235,0`\n",
    "\n",
    "### predMetadata (Optional)\n",
    "predictMetadata option allows users to compare devCellPy predictions with a distinct method of annotation on a query dataset (i.e. manual annotation). \n",
    "\n",
    "##### FORMAT: csv file\n",
    "\n",
    "-  row 1, column 1 should be `NA`, ie. empty when opened in Excel\n",
    "-  first column contains cell names, should be in the same order as first row of trainNormExpr\n",
    "-  each column following contains the layered identification for each cell\n",
    "-  all other cells should be NA or empty\n",
    "* a single row contains a cell barcode and then the cell label corresponding to each subtype category\n",
    "*  all other cells should be `NA`, ie. empty when opened in Excel\n",
    "\n",
    "The prediction metadata file option allows the user to test the model on a new dataset.\n",
    "EXAMPLE:\n",
    "\n",
    "`,Celltype1,Timepoint,Celltype2,Celltype3\n",
    "AAACCTGGTAACGTTC-1_1_1,aSHF Progenitors,E7.75,NA,NA\n",
    "AAACCTGTCACAATGC-1_1_1,FHF Progenitors,E7.75,NA,NA\n",
    "AAACGGGTCTGCTGCT-1_1_1,Pharyngeal Mesoderm,E7.75,NA,NA\n",
    "TGATTTCTCCACGACG-1_2_3,Cardiomyocytes,E9.25,E9.25_Ventricular_CM,RV CM\n",
    "TGATTTCTCTCCCTGA-1_2_3,Cardiomyocytes,E9.25,E9.25_Ventricular_CM,Septal CM\n",
    "TTTGTCACATTTCACT-1_6_6,Cardiomyocytes,E16.5,Ventricular CM,NA`\n",
    "\n",
    "### layerObjectPaths\n",
    "\n",
    "##### FORMAT: a comma-separated list of paths to the trained Layer objects (pickle .pkl files)\n",
    "\n",
    "* Layer objects were created by trainOnly\n",
    "-  not all models have to be provided, can conduct prediction on individual targetted layers\n",
    "* **NOTE: do not rename the .pkl Layer objects*"
   ]
  },
  {
   "cell_type": "markdown",
   "metadata": {},
   "source": [
    "##### EXAMPLES:"
   ]
  },
  {
   "cell_type": "markdown",
   "metadata": {},
   "source": [
    "Training one layer:"
   ]
  },
  {
   "cell_type": "raw",
   "metadata": {},
   "source": [
    "--layerObjectPaths /devcellpy_example/devcellpy_training_(time)/Root_object.pkl"
   ]
  },
  {
   "cell_type": "markdown",
   "metadata": {},
   "source": [
    "Training multiple layers (predicted individually):"
   ]
  },
  {
   "cell_type": "raw",
   "metadata": {},
   "source": [
    "--layerObjectPaths /devcellpy_example/devcellpy_training_(time)/Root_object.pkl,/devcellpy_example/devcellpy_training_(time)/CD4_object.pkl,/devcellpy_example/devcellpy_training_(time)/CD8_object.pkl,/devcellpy_example/devcellpy_training_(time)/T-cell_object.pkl"
   ]
  },
  {
   "cell_type": "markdown",
   "metadata": {},
   "source": [
    "### rejectionCutoff\n",
    "\n",
    "##### FORMAT: float between 0 and 1\n",
    "\n",
    "-  a rejection cutoff of 0.5 means a cell will be regarded as \"Unclassified\" if no class has a predicted probability greater than 50%\n",
    "* **NOTE: See \"Post-devCellPy Analysis in R\" section below for further analysis on varying rejection thresholds' impact on results."
   ]
  },
  {
   "cell_type": "markdown",
   "metadata": {},
   "source": [
    "### OUTPUT OF PREDICT:\n",
    "\n",
    "* creates directory \"devcellpy_predictOne_(time)\"\n",
    "* within, there will nested folders for each Layer, with 'Root' being the first Layer\n",
    "* within \"predictOne\" there will be a separate folder for each Layer, with 'Root' being the first Layer\n",
    "* each Layer folder contains the following:\n",
    "    * csv files containing all the predictions and probabilities associated with each label for each cell\n",
    "    * metric files detailing accuracy, precision, recall, confusion matrix (if metadata file has been provided in input; only present for predictOne mode)\n"
   ]
  },
  {
   "cell_type": "markdown",
   "metadata": {},
   "source": [
    "## predictAll Option\n",
    "\n",
    "predictAll is a devCellPy option that allows the user to use the devCellPy algorithm to predict cell types in **all layers** of their single cell RNA query dataset based off of their previously trained dataset. Each layer of cell types predicted influences the predictions for the next layer.\n",
    "\n",
    "### REQUIRED USER INPUTS:\n",
    "-  **predNormExpr**: normalized expression matrix file\n",
    "-  **layerObjectPaths**: a list of path names to Layer objects\n",
    "-  **rejectionCutoff**: float between 0 and 1 denoting the minimum probability for a prediction to not be rejected\n",
    "\n",
    "### predNormExpr\n",
    "\n",
    "##### FORMAT: csv file\n",
    "\n",
    "* contains normalized expression of genes for each single cell \n",
    "* first column: gene names\n",
    "* row headers: cell barcodes\n",
    "* row 1 column 1 is 'gene'\n",
    "\n",
    "##### EXAMPLE:\n",
    "\n",
    "`gene,AAACCCAG........,AAACGAAC........,AAACGAAT........,GAGGGATC........\n",
    "MIR1302-10,0,2.14693417019908,2.31409562022533,0\n",
    "OR4F29,0,1.71783906814673,0,0\n",
    "LINC00115,0,0,0,2.8499342352407\n",
    "ISG15,2.99811039595896,0,2.41534932603235,0`\n",
    "\n",
    "### layerObjectPaths\n",
    "\n",
    "##### FORMAT: a comma-separated list of paths to the trained Layer objects (pickle .pkl files)\n",
    "\n",
    "* Layer objects were created by trainOnly\n",
    "-  not all models have to be provided, can conduct prediction on individual targetted layers\n",
    "* **NOTE: do not rename the .pkl Layer objects*"
   ]
  },
  {
   "cell_type": "markdown",
   "metadata": {},
   "source": [
    "##### EXAMPLE:"
   ]
  },
  {
   "cell_type": "raw",
   "metadata": {},
   "source": [
    "--layerObjectPaths /devcellpy_example/devcellpy_training_(time)/Root_object.pkl,/devcellpy_example/devcellpy_training_(time)/CD4_object.pkl,/devcellpy_example/devcellpy_training_(time)/CD8_object.pkl,/devcellpy_example/devcellpy_training_(time)/T-cell_object.pkl"
   ]
  },
  {
   "cell_type": "markdown",
   "metadata": {},
   "source": [
    "### rejectionCutoff\n",
    "\n",
    "##### FORMAT: float between 0 and 1\n",
    "\n",
    "-  a rejection cutoff of 0.5 means a cell will be regarded as \"Unclassified\" if no class has a predicted probability greater than 50%\n",
    "* **NOTE: See \"Post-devCellPy Analysis in R\" section below for further analysis on varying rejection thresholds' impact on results.\n",
    "\n",
    "### OUTPUT OF PREDICT:\n",
    "\n",
    "* creates directory \"devcellpy_predictAll_(time)\"\n",
    "* within, there will nested folders for each Layer, with 'Root' being the first Layer\n",
    "* \"predictAll\" will contain a csv file of the predictions at all layers assigned to each cell\n"
   ]
  },
  {
   "cell_type": "markdown",
   "metadata": {},
   "source": [
    "# Back to Table of Contents\n",
    "\n",
    "[Table of Contents](https://github.com/devCellPy-Team/devCellPy/blob/main/Tutorial/0.tableofcontents.ipynb)"
   ]
  }
 ],
 "metadata": {
  "kernelspec": {
   "display_name": "dcp",
   "language": "python",
   "name": "python3"
  },
  "language_info": {
   "codemirror_mode": {
    "name": "ipython",
    "version": 3
   },
   "file_extension": ".py",
   "mimetype": "text/x-python",
   "name": "python",
   "nbconvert_exporter": "python",
   "pygments_lexer": "ipython3",
   "version": "3.9.16 (main, Mar  8 2023, 04:29:24) \n[Clang 14.0.6 ]"
  },
  "vscode": {
   "interpreter": {
    "hash": "e2db42fc6d04de554a3e1a44afd0a172609abc40ca3f0bf0c91cf9df4131314a"
   }
  }
 },
 "nbformat": 4,
 "nbformat_minor": 4
}
