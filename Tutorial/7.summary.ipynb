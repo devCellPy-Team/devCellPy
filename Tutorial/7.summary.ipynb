{
 "cells": [
  {
   "cell_type": "markdown",
   "metadata": {},
   "source": [
    "# 6. devCellPy Run Option Summary and Examples"
   ]
  },
  {
   "cell_type": "code",
   "execution_count": null,
   "metadata": {},
   "outputs": [],
   "source": [
    "In summary, devCellPy offers 3 different run modes: training, prediction, and feature ranking. It trains all the layers of a training dataset and in the query dataset, devCellPy can either predict layers independently or predict all layers so the results of the previous layer influence the next.\n",
    "\n",
    "1a. TrainAll: training all layers w/ cross validation and metrics\n",
    "* (runMode = trainAll, trainNormExpr, labelInfo, trainMetadata, testSplit, rejectionCutoff)\n",
    "* Example: \n",
    "    devCellPy \n",
    "              --runMode trainAll \n",
    "              --trainNormExpr /devcellpy_example/example_norm_expr.csv \n",
    "              --labelInfo /devcellpy_example/example_labelinfo.csv \n",
    "              --trainMetadata /devcellpy_example/example_metadata.csv \n",
    "              --testSplit 0.1 \n",
    "              --rejectionCutoff 0.5\n",
    "\n",
    "1b. TrainAll: training all layers w/o cross validation and metrics\n",
    "* (runMode = trainAll, trainNormExpr, labelInfo, trainMetadata, rejectionCutoff)\n",
    "* Example: \n",
    "    devCellPy   \n",
    "              --runMode trainAll \n",
    "              --trainNormExpr /devcellpy_example/example_norm_expr.csv \n",
    "              --labelInfo /devcellpy_example/example_labelinfo.csv \n",
    "              --trainMetadata /devcellpy_example/example_metadata.csv \n",
    "              --rejectionCutoff 0.5\n",
    "\n",
    "2a. PredictOne: prediction of query using single layer w/ valdiation metadata \n",
    "* (runMode = predictOne, predNormExpr, predMetadata, layerObjectPaths, rejectionCutoff)\n",
    "* Example: \n",
    "    devCellPy\n",
    "              --runMode predictOne \n",
    "              --predNormExpr /devcellpy_example/query_norm_expr.csv \n",
    "              --predMetadata /devcellpy_example/query_metadata.csv \n",
    "              --layerObjectPaths /devcellpy_example/training/Root_object.pkl\n",
    "              --rejectionCutoff 0.5\n",
    "\n",
    "2b. PredictOne: prediction of query using single layer w/o val_metadata\n",
    "* (runMode = predictOne, predNormExpr, layerObjectPaths, rejectionCutoff)\n",
    "* Example: \n",
    "      devCellPy\n",
    "               --runMode predictOne \n",
    "               --predNormExpr /devcellpy_example/query_norm_expr.csv \n",
    "               --layerObjectPaths /devcellpy_example/training/Root_object.pkl,\n",
    "               --rejectionCutoff 0.5\n",
    "    \n",
    "2c. PredictAll: prediction of all layers w/o val_metadata, each layer influences the next layer\n",
    "* (runMode = predictAll, predNormExpr, layerObjectPaths, rejectionCutoff)\n",
    "* Example: \n",
    "     devCellPy\n",
    "              --runMode predictOne \n",
    "              --predNormExpr /devcellpy_example/query_norm_expr.csv \n",
    "              --layerObjectPaths /devcellpy_example/training/Root_object.pkl,\n",
    "                /devcellpy_example/Layer2_object.pkl,/devcellpy_example/Layer3_object.pkl \n",
    "              --rejectionCutoff 0.5\n",
    "    \n",
    "3. FeatureRankingOne: retrieval of gene importance information from training data for trained `Layer` objects\n",
    "* (runMode = featureRankingOne, trainNormExpr, trainMetadata, layerObjectPaths, featureRankingSplit)\n",
    "* Example: \n",
    "    devCellPy \n",
    "              --runMode featureRankingOne \n",
    "              --trainNormExpr /devcellpy_example/example_norm_expr.csv  \n",
    "              --trainMetadata /devcellpy_example/example_metadata.csv \n",
    "              --layerObjectPaths /devcellpy_example/training/Root_object.pkl,\n",
    "                /devcellpy_example/Layer2_object.pkl,/devcellpy_example/Layer3_object.pkl \n",
    "              --featureRankingSplit 0.1"
   ]
  },
  {
   "cell_type": "markdown",
   "metadata": {},
   "source": [
    "# Back to Table of Contents\n",
    "\n",
    "[Table of Contents](https://github.com/devCellPy-Team/devCellPy/blob/main/Tutorial/0.tableofcontents.ipynb)"
   ]
  }
 ],
 "metadata": {
  "kernelspec": {
   "display_name": "Python 3",
   "language": "python",
   "name": "python3"
  },
  "language_info": {
   "codemirror_mode": {
    "name": "ipython",
    "version": 3
   },
   "file_extension": ".py",
   "mimetype": "text/x-python",
   "name": "python",
   "nbconvert_exporter": "python",
   "pygments_lexer": "ipython3",
   "version": "3.8.8"
  }
 },
 "nbformat": 4,
 "nbformat_minor": 4
}
