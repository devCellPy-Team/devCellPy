{
 "cells": [
  {
   "cell_type": "markdown",
   "metadata": {},
   "source": [
    "<a id='train'></a>"
   ]
  },
  {
   "cell_type": "markdown",
   "metadata": {},
   "source": [
    "# CellPy Train\n",
    "\n",
    "## Train Options\n",
    "\n",
    "trainAll is a CellPy option that allows the user to train the CellPy algorithm on cell types in their single cell RNA training dataset for use in prediction of their query dataset later. The training of each layer of cell types influences the next. There are two possible options for training, one with metrics of the model outputted (recommended), and one without. The required parameters and sample code required to run each are listed below.\n",
    "\n",
    "trainAll: Training all layers WITH cross validation and metrics\n",
    "* (runMode = trainAll, trainNormExpr, labelInfo, trainMetadata, testSplit, rejectionCutoff)\n",
    "* Example: `cellpy --runMode trainAll --trainNormExpr /cellpy_example/zheng_pbmc_10K.csv --labelInfo /cellpy_example/zheng_labelinfo.csv --trainMetadata /cellpy_example/zheng_pbmc_10K_metadata.csv --testSplit 0.1 --rejectionCutoff 0.5`\n",
    "\n",
    "trainAll: Training all layers WITHOUT cross validation and metrics\n",
    "* (runMode = trainAll, trainNormExpr, labelInfo, trainMetadata, rejectionCutoff)\n",
    "* Example: `cellpy --runMode trainAll --trainNormExpr /cellpy_example/zheng_pbmc_10K.csv --labelInfo /cellpy_example/zheng_labelinfo.csv --trainMetadata /cellpy_example/zheng_pbmc_10K_metadata.csv --rejectionCutoff 0.5`"
   ]
  },
  {
   "cell_type": "markdown",
   "metadata": {},
   "source": [
    "## REQUIRED USER INPUTS:\n",
    "\n",
    "-  **trainNormExpr**: normalized expression matrix csv file\n",
    "-  **labelInfo**: label information csv file\n",
    "-  **trainMetadata**: metadata csv file\n",
    "-  **testSplit (optional but recommended)**: float between 0 and 1 denoting the amount of data to holdout for evaluating the model\n",
    "-  **rejectionCutoff**: float between 0 and 1 denoting the minimum probability for a prediction to not be rejected\n",
    "\n",
    "## OUTPUTS OF TRAINONLY:\n",
    "\n",
    "* creates directory 'training' in a folder named \"cellpy_results_(time)\"\n",
    "* within 'training' there will be a separate folder for each Layer, with 'Root' being the first Layer\n",
    "* each Layer folder contains the following:\n",
    "    * Pickled Object (layername.pkl) representing the trained Layer\n",
    "    * XGB Model (layername_xgbmodel.sav) containing the trained XGBoost Booster object\n",
    "    * 10-Fold Cross-Validation Metrics (layername_cvmetrics.txt) showing precision, recall, and accuracy scores for each class and overall for each of the 10 iterations on the training portion of the provided dataset\n",
    "    * Final Metrics (layername_finalmetrics.txt) showing precision, recall, and accuracy scores for each class and overall for the holdout test portion of the provided dataset\n",
    "    * Predictions w/o Rejection (layername_trainingpredictions_reject0.csv) listing the model's raw predictions for all cells in the holdout test portion of the provided dataset, including each cell's true label from the metadata, the predicted label, and the predicted probability of it belonging in each class\n",
    "    * Predictions w/ Rejection (layername_trainingpredictions_rejectprovidedcutoff.csv) listing the model's filtered predictions for all cells in the holdout test portion of the provided dataset, cells whose maximum predicted probability falls under the provided cutoff are marked as \"Unclassified\"\n",
    "    * Confusion Matrix w/ Rejection (layername_confusionmatrix.svg) illustrating the confusion matrix for the model's filtered predictions for all cells in the holdout test portion of the provided dataset, unclassified cells are excluded from the confusion matrix\n",
    "    * Micro/Macro ROC Curves (layername_miacroroc.svg) graphing the receiver operating characteristic curves of the model for the micro and macro averages\n",
    "    * Per-Class ROC Curves (layername_classroc.svg) graphing the receiver operating characteristic curves of the model for each class\n",
    "    * All Combined ROC Curves (layername_allroc.svg) graphing the receiver operating characteristic curves of the model for the micro and macro averages and each class\n",
    "    * Precision-Recall Curves (layername_allpr.svg) graphing the PR curves of the model for the micro average and each class\n",
    "* the root layer will also contain a finetuning log (Root_finetuning.csv) that lists all 50 test iterations with randomized variables and their respective per-class accuracies and overall mean absolute error\n",
    "* running trainAll without a testSplit value will result in the generation of only the first two files (layername.pkl and layername_xgbmodel.sav)"
   ]
  },
  {
   "cell_type": "markdown",
   "metadata": {},
   "source": [
    "## DETAILS OF REQUIRED USER INPUTS:\n",
    "\n",
    "### trainNormExpr\n",
    "\n",
    "##### FORMAT: csv file\n",
    "\n",
    "* contains normalized expression of genes for each single cell \n",
    "* first column: gene names\n",
    "* row headers: cell barcodes\n",
    "* cells: normalized expression of that particular gene for that particular cell\n",
    "-  cell 0,0 / A1 is 'gene'\n",
    "-  first column contains gene names\n",
    "-  first row contains cell names\n",
    "-  eg. cell [i,j] is the gene expression value in cell (j-1) for gene (i-1)\n",
    "\n",
    "##### EXAMPLE 1:\n",
    "\n",
    "`gene,AAACCCAG........,AAACGAAC........,AAACGAAT........,GAGGGATC........\n",
    "MIR1302-10,0,2.14693417019908,2.31409562022533,0\n",
    "OR4F29,0,1.71783906814673,0,0\n",
    "LINC00115,0,0,0,2.8499342352407\n",
    "ISG15,2.99811039595896,0,2.41534932603235,0`\n",
    "\n",
    "##### EXAMPLE 2:"
   ]
  },
  {
   "cell_type": "code",
   "execution_count": null,
   "metadata": {},
   "outputs": [],
   "source": [
    "import pandas as pd\n",
    "\n",
    "#example train_normexpr\n",
    "normexpr = pd.read_csv(\"~/Desktop/zheng_pbmc_10K.csv\", usecols = [0,1,2,3,4])\n",
    "normexpr\n",
    "\n",
    "[TODO: update tutorial files!!!!!!!!!!]"
   ]
  },
  {
   "cell_type": "markdown",
   "metadata": {},
   "source": [
    "### labelInfo\n",
    "\n",
    "##### FORMAT: csv file\n",
    "\n",
    "-  explains how each celltype is separated into different layers\n",
    "-  each column represents a single layer, in the following column the subtypes of that celltype are indicated with the first subtype lying in the same row and all other subtypes filling in the following rows\n",
    "-  if there are no subtypes for that particular celltype, leave cell in csv empty\n",
    "-  each column contains the labels at each layers\n",
    "-  gaps should be left in higher-level layers to denote branching from a given label\n",
    "* *NOTE: all labels should be unique and should not contain commas*\n",
    "\n",
    "The labelInfo file is crucial for informing the algorithm the structure of the different layers of cell labels\n",
    "\n",
    "##### EXAMPLE 1:\n",
    "\n",
    "`B-cell,,,,,,,\n",
    "Basophil,,,,,,,\n",
    "Dendritic,,,,,,,\n",
    "Macrophage,,,,,,,\n",
    "Monocyte,,,,,,,\n",
    "NK,,,,,,,\n",
    "Platelet,,,,,,,\n",
    "T-cell,CD4,Effector Memory CD4,,,,,\n",
    ",,Naive/Central CD4,,,,,\n",
    ",,T-reg CD4,,,,,\n",
    ",CD8,Effector Memory CD8,,,,,\n",
    ",,Naive CD8,,,,,\n",
    ",,Temra CD8,,,,,`"
   ]
  },
  {
   "cell_type": "code",
   "execution_count": null,
   "metadata": {},
   "outputs": [],
   "source": [
    "#example 1\n",
    "import pandas as pd\n",
    "labels = pd.read_csv(\"~/Desktop/zheng_labelinfo.csv\", header=None, usecols = [0,1,2])\n",
    "labels\n",
    "\n",
    "[TODO: update tutorial files!!!!!!!!!!]"
   ]
  },
  {
   "cell_type": "markdown",
   "metadata": {},
   "source": [
    "-  layer 1 contains 8 different cell-types: B-cell, Basophil, Dendritic, Macrophage, Monocyte, NK, Platelet, T-cell\n",
    "-  T-cells are further classified into CD4 and CD8 cells in layer 2\n",
    "-  CD4 cells are further classified into Effector Memory CD4, Naive/Central CD4, T-reg CD4 in layer 3\n",
    "-  CD8 cells are further classified into Effector Memory CD8, Naive CD8, Temra CD8 in layer 3\n",
    "-  *Note: Effector Memory CD4 and Temra CD8 are both layer 3 labels despite having different layer 2 labels*\n",
    "-  *Note: gaps are left between CD4 and CD8 to make clear to the CellPy algorithm that Naive/Central CD4 and T-reg CD4 belong under the CD4 layer*\n",
    "\n",
    "##### EXAMPLE 2 (generic labels):\n",
    "\n",
    "`Z,,,\n",
    "A,A1,A1A,\n",
    ",,A1B,\n",
    ",A2,A2A,\n",
    ",,A2B,A2B1\n",
    ",,,A2B2\n",
    ",A3,,\n",
    ",A4,A4A,\n",
    ",,A4B,\n",
    ",,A4C,\n",
    ",A5,,\n",
    "Y,,,\n",
    "B,B1,,\n",
    ",B2,B2A,\n",
    ",,B2B,\n",
    ",,B2C,\n",
    ",,B2D,\n",
    ",B3,,\n",
    ",B4,,\n",
    "C,C1,,\n",
    ",C2,,\n",
    "D,,,\n",
    "E,,,`"
   ]
  },
  {
   "cell_type": "code",
   "execution_count": null,
   "metadata": {},
   "outputs": [],
   "source": [
    "#example 2\n",
    "labels2 = pd.read_csv(\"~/Desktop/example2labels.csv\", header=None)\n",
    "labels2\n",
    "\n",
    "[TODO: update tutorial files!!!!!!!!!!]"
   ]
  },
  {
   "cell_type": "markdown",
   "metadata": {},
   "source": [
    "-  layer 1 contains 6 different labels: Z, A, B, C, D, E\n",
    "-  A cells are further classified into A1, A2, A3, A4, A5 in layer 2\n",
    "-  B cells are further classified into B1, B2, B3, B4 in layer 2\n",
    "-  C cells are further classified into C1, C2 in layer 2\n",
    "-  A1 cells are further classified into A1A, A1B in layer 3\n",
    "-  A2 cells are further classified into A2A, A2B in layer 3\n",
    "-  A4 cells are further classified into A4A, A4B, A4C in layer 3\n",
    "-  B2 cells are further classified into B2A, B2B, B2C, B2D in layer 3\n",
    "-  A2B cells are further classified into A2B1, A2B2 cells in layer 4"
   ]
  },
  {
   "cell_type": "markdown",
   "metadata": {},
   "source": [
    "### trainMetadata\n",
    "\n",
    "##### FORMAT: csv file\n",
    "\n",
    "-  cell 0,0 / A1 should be NA or empty\n",
    "-  first column contains cell names, should be in the same order as first row of trainNormExpr\n",
    "-  each column following contains the layered identification for each cell\n",
    "-  all other cells should be NA or empty\n",
    "* first column: cell barcodes\n",
    "* each following column represents a layer of cell subtypes\n",
    "* a single row contains a cell barcode and then the cell label corresponding to each subtype category\n",
    "\n",
    "##### EXAMPLE:\n",
    "\n",
    "`,Celltype1,Celltype2,Celltype3\n",
    "AAACCCAG........,Monocyte,NA,NA\n",
    "AAACGAAC........,NK,NA,NA\n",
    "AAACGAAT........,Macrophage,NA,NA\n",
    "GAGGGATC........,T-cell,\"CD8,\"Effector Memory CD8`"
   ]
  },
  {
   "cell_type": "code",
   "execution_count": null,
   "metadata": {},
   "outputs": [],
   "source": [
    "#example train_metadata\n",
    "import pandas as pd\n",
    "labels = pd.read_csv(\"~/Desktop/zheng_pbmc_10K_metadata.csv\", nrows=10)\n",
    "labels\n",
    "\n",
    "[TODO: update tutorial files!!!!!!!!!!]"
   ]
  },
  {
   "cell_type": "markdown",
   "metadata": {},
   "source": [
    "### testSplit (Optional but Recommended)\n",
    "\n",
    "##### FORMAT: float between 0 and 1\n",
    "\n",
    "-  a testsplit value of 0.1 means 10% of the data will be held out for testing the model\n",
    "-  the holdout dataset is stratified and preserves the proportions of the cell labels in the original dataset\n",
    "\n",
    "If not provided by the user, training will proceed without cross-validation and model evaluation\n",
    "\n",
    "### rejectionCutoff\n",
    "\n",
    "##### FORMAT: float between 0 and 1\n",
    "\n",
    "-  a rejection cutoff of 0.5 means a cell will be regarded as \"Unclassified\" if no class has a predicted probability greater than 50%\n",
    "- the rejection cutoff is relevant for generating metrics of trained model behavior from where test split divides the data into a training portion and a test portion \n",
    "    * different rejection cutoff does not impact prediction results when generated .pkl object is later used in the predictOne or predictAll option"
   ]
  },
  {
   "cell_type": "markdown",
   "metadata": {},
   "source": [
    "# Back to Table of Contents\n",
    "\n",
    "[Table of Contents](tableofcontents.ipynb#toc)"
   ]
  }
 ],
 "metadata": {
  "kernelspec": {
   "display_name": "Python 3",
   "language": "python",
   "name": "python3"
  },
  "language_info": {
   "codemirror_mode": {
    "name": "ipython",
    "version": 3
   },
   "file_extension": ".py",
   "mimetype": "text/x-python",
   "name": "python",
   "nbconvert_exporter": "python",
   "pygments_lexer": "ipython3",
   "version": "3.8.8"
  }
 },
 "nbformat": 4,
 "nbformat_minor": 4
}
