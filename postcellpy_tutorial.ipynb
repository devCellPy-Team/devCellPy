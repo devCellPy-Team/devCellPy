{
 "cells": [
  {
   "cell_type": "markdown",
   "metadata": {},
   "source": [
    "<a id='postcellpy'></a>"
   ]
  },
  {
   "cell_type": "markdown",
   "metadata": {},
   "source": [
    "# Post-CellPy Analysis in R\n",
    "\n",
    "The output of the PredictOne and PredictAll modes of CellPy includes a CSV file containing the cell barcodes and the corresponding celltype labels.\n",
    "\n",
    "This CSV file can be added to the metadata of the test dataset Seurat Object for UMAP and ViolinPlot visualization in R."
   ]
  },
  {
   "cell_type": "code",
   "execution_count": null,
   "metadata": {},
   "outputs": [],
   "source": [
    "#R-Analysis of CellPy PredictAll CSV output file\n",
    "#Example containing three celltype layers\n",
    "\n",
    "library(Seurat)\n",
    "\n",
    "#finds number of layers + 1 (cell barcode)\n",
    "numcols = max(count.fields(\"~/StanfordCVI/cellpy/cellpy_results_20210831144052/predictionAll/predictionall_reject0.5.csv\", sep = ','))\n",
    "#numcols=4 ;(barcode + 3 layers)\n",
    "\n",
    "prediction = read.table(\"~/StanfordCVI/cellpy/cellpy_results_20210831144052/predictionAll/predictionall_reject0.5.csv\", header = FALSE, sep = \",\", \n",
    "           col.names = paste0(\"V\",seq_len(numcols)), fill = TRUE)\n",
    "\n",
    "cellpy_preds = data.frame(prediction)\n",
    "head(cellpy_preds)\n",
    "\n",
    "#replace blanks in dataframe with <NA>\n",
    "cellpy_preds1 <- cellpy_preds\n",
    "cellpy_preds1[cellpy_preds1 == \"\"] <- NA \n",
    "\n",
    "\n",
    "#import Seurat Object of test/query scRNA dataset\n",
    "pbmc10k = readRDS(\"~/Downloads/pbmc10K.final.rds\")\n",
    "\n",
    "#barcodes of seurat object\n",
    "pbmc10k_barcodes = rownames(pbmc10k@meta.data)\n",
    "\n",
    "#rearrange prediction dataframe so barcodes match seurat object\n",
    "cellpy_preds2 = cellpy_preds1[match(pbmc10k_barcodes, cellpy_preds1$V1), ] \n",
    "\n",
    "#add Celltype1_pred, Celltype2_pred, etc. metadata slots to the Seurat Object\n",
    "pbmc10k[[\"Celltype1_pred_50\"]] <- cellpy_preds2$V2\n",
    "pbmc10k[[\"Celltype2_pred_50\"]] <- cellpy_preds2$V3\n",
    "pbmc10k[[\"Celltype3_pred_50\"]] <- cellpy_preds2$V4\n",
    "\n",
    "#UMAPs of predictions\n",
    "#use legend\n",
    "DimPlot(pbmc10k, group.by=\"Celltype1_pred_50\", reduction = \"umap\", pt.size = 0.5)\n",
    "#to have labels directly on the UMAP\n",
    "#DimPlot(pbmc10k, group.by=\"Celltype1_pred\", reduction = \"umap\", label = TRUE, pt.size = 0.5) +NoLegend()"
   ]
  },
  {
   "cell_type": "code",
   "execution_count": null,
   "metadata": {},
   "outputs": [],
   "source": [
    "[TODO: UMAP plots side by side of 0.5 and 0.8!!!!!!!!!!!!!!]"
   ]
  },
  {
   "cell_type": "markdown",
   "metadata": {},
   "source": [
    "By increasing the threshold for the rejection cutoff in the prediction options, cell type predictions improve at the expense of throwing away cells with lower cell type probability. Here, we can see the increase in unclassified cells as the rejection cutoff is adjusted from 0.5 to 0.8."
   ]
  },
  {
   "cell_type": "code",
   "execution_count": null,
   "metadata": {},
   "outputs": [],
   "source": [
    "DimPlot(pbmc10k, group.by=\"Celltype2_pred_50\", reduction = \"umap\", pt.size = 0.5)"
   ]
  },
  {
   "cell_type": "code",
   "execution_count": null,
   "metadata": {},
   "outputs": [],
   "source": [
    "[TODO: UMAP plots side by side of 0.5 and 0.8!!!!!!!!!!!!!!]"
   ]
  },
  {
   "cell_type": "code",
   "execution_count": null,
   "metadata": {},
   "outputs": [],
   "source": [
    "DimPlot(pbmc10k, group.by=\"Celltype3_pred_50\", reduction = \"umap\", pt.size = 0.5)"
   ]
  },
  {
   "cell_type": "code",
   "execution_count": null,
   "metadata": {},
   "outputs": [],
   "source": [
    "[TODO: UMAP plots side by side of 0.5 and 0.8!!!!!!!!!!!!!!]"
   ]
  },
  {
   "cell_type": "markdown",
   "metadata": {},
   "source": [
    "# Back to Table of Contents\n",
    "\n",
    "[Table of Contents](tableofcontents.ipynb#toc)"
   ]
  }
 ],
 "metadata": {
  "kernelspec": {
   "display_name": "Python 3",
   "language": "python",
   "name": "python3"
  },
  "language_info": {
   "codemirror_mode": {
    "name": "ipython",
    "version": 3
   },
   "file_extension": ".py",
   "mimetype": "text/x-python",
   "name": "python",
   "nbconvert_exporter": "python",
   "pygments_lexer": "ipython3",
   "version": "3.7.1"
  }
 },
 "nbformat": 4,
 "nbformat_minor": 4
}
