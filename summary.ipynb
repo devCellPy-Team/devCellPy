{
 "cells": [
  {
   "cell_type": "markdown",
   "metadata": {},
   "source": [
    "<a id='summary'></a>"
   ]
  },
  {
   "cell_type": "markdown",
   "metadata": {},
   "source": [
    "# CellPy Run Option Summary and Examples\n",
    "\n",
    "CellPy offers 3 different run modes: training, prediction, and feature ranking. It trains all the layers of a training dataset and in the query dataset, CellPy can either predict layers independently or predict all layers so the results of the previous layer influence the next.\n",
    "\n",
    "1a. TrainAll: training all layers w/ cross validation and metrics\n",
    "* (runMode = trainAll, trainNormExpr, labelInfo, trainMetadata, testSplit, rejectionCutoff)\n",
    "* Example: `cellpy --runMode trainAll --trainNormExpr /cellpy_example/zheng_pbmc_10K.csv --labelInfo /cellpy_example/zheng_labelinfo.csv --trainMetadata /cellpy_example/zheng_pbmc_10K_metadata.csv --testSplit 0.1 --rejectionCutoff 0.5`\n",
    "\n",
    "1b. TrainAll: training all layers w/o cross validation and metrics\n",
    "* (runMode = trainAll, trainNormExpr, labelInfo, trainMetadata, rejectionCutoff)\n",
    "* Example: `cellpy --runMode trainAll --trainNormExpr /cellpy_example/zheng_pbmc_10K.csv --labelInfo /cellpy_example/zheng_labelinfo.csv --trainMetadata /cellpy_example/zheng_pbmc_10K_metadata.csv --rejectionCutoff 0.5`\n",
    "\n",
    "2a. PredictOne: prediction of layers w/ val_metadata, each layer is predicted independently\n",
    "* (runMode = predictOne, predNormExpr, predMetadata, layerObjectPaths, rejectionCutoff)\n",
    "* Example: `cellpy --runMode predictOne --predNormExpr /cellpy_example/pbmc_10k_normalized.csv --predMetadata /cellpy_example/pbmc_10k_metadata.csv --layerObjectPaths /cellpy_example/cellpy_results_20210720155257/training/Root_object.pkl,/cellpy_example/cellpy_results_20210720155257/training/CD4_object.pkl,/cellpy_example/cellpy_results_20210720155257/training/CD8_object.pkl,/cellpy_example/cellpy_results_20210720155257/training/T-cell_object.pkl --rejectionCutoff 0.5`\n",
    "\n",
    "2b. PredictOne: prediction of layers w/o val_metadata, each layer is predicted independently\n",
    "* (runMode = predictOne, predNormExpr, layerObjectPaths, rejectionCutoff)\n",
    "* Example: `cellpy --runMode predictOne --predNormExpr /cellpy_example/pbmc_10k_normalized.csv --layerObjectPaths /cellpy_example/cellpy_results_20210720155257/training/Root_object.pkl,/cellpy_example/cellpy_results_20210720155257/training/CD4_object.pkl,/cellpy_example/cellpy_results_20210720155257/training/CD8_object.pkl,/cellpy_example/cellpy_results_20210720155257/training/T-cell_object.pkl --rejectionCutoff 0.5`\n",
    "\n",
    "3a. PredictAll: prediction of layers w/o val_metadata, each layer influences the next layer\n",
    "* (runMode = predictAll, predNormExpr, layerObjectPaths, rejectionCutoff)\n",
    "* Example: `cellpy --runMode predictAll --predNormExpr /cellpy_example/pbmc_10k_normalized.csv --layerObjectPaths /cellpy_example/cellpy_results_20210720155257/training/Root_object.pkl,/cellpy_example/cellpy_results_20210720155257/training/CD4_object.pkl,/cellpy_example/cellpy_results_20210720155257/training/CD8_object.pkl,/cellpy_example/cellpy_results_20210720155257/training/T-cell_object.pkl --rejectionCutoff 0.5`\n",
    "\n",
    "4a. FeatureRankingOne\n",
    "* (runMode = featureRankingOne, trainNormExpr, trainMetadata, layerObjectPaths, featureRankingSplit)\n",
    "* Example: `cellpy --runMode featureRankingOne --trainNormExpr /cellpy_example/zheng_pbmc_10K.csv --trainMetadata /cellpy_example/zheng_pbmc_10K_metadata.csv --layerObjectPaths /cellpy_example/cellpy_results_20210720155257/training/Root_object.pkl,/cellpy_example/cellpy_results_20210720155257/training/CD4_object.pkl,/cellpy_example/cellpy_results_20210720155257/training/CD8_object.pkl,/cellpy_example/cellpy_results_20210720155257/training/T-cell_object.pkl --featureRankingSplit 0.1`\n"
   ]
  },
  {
   "cell_type": "markdown",
   "metadata": {},
   "source": [
    "# Back to Table of Contents\n",
    "\n",
    "[Table of Contents](tableofcontents.ipynb#toc)"
   ]
  }
 ],
 "metadata": {
  "kernelspec": {
   "display_name": "Python 3",
   "language": "python",
   "name": "python3"
  },
  "language_info": {
   "codemirror_mode": {
    "name": "ipython",
    "version": 3
   },
   "file_extension": ".py",
   "mimetype": "text/x-python",
   "name": "python",
   "nbconvert_exporter": "python",
   "pygments_lexer": "ipython3",
   "version": "3.7.1"
  }
 },
 "nbformat": 4,
 "nbformat_minor": 4
}
