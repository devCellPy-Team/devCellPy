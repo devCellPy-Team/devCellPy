{
 "cells": [
  {
   "cell_type": "markdown",
   "metadata": {},
   "source": [
    "# CellPy Tutorial\n",
    "\n",
    "CellPy is a Python-based method for classifying single cell RNA sequencing datasets that automatically classifies cells in a multilayered approach. The classifier implements the XGBoost (Chen and Guestrin, 2016) algorithm to automatically predict cell types across multiple layers and sublayers of annotation.\n",
    "\n",
    "By creating a highly customizable classification scheme, users can input the annotation hierarchy of their scRNA-seq datasets into CellPy to automatically classify cells according to the hierarchy. Moreover, CellPy allows users to designate timepoint as one of the annotation layers which allows for cell type predictions to be made conditioned on the timepoint at which cells are present.\n",
    "\n",
    "In addition to cell classification, CellPy implements the SHAP package (Lundberg etal, 2020) which allows for the identification of positive and negative gene predictors of cell identities across all annotation layers ana\n",
    "\n",
    "Below we provide a comprehensive tutorial on CellPy's usage as well as overall concepts in its design.\n",
    "\n",
    "[DESCRIPTION OF THE LAYER OBJECT STRUCTURE] [MORE GENERAL INTRODUCTION TO THE OVERALL ALGORITHM]\n",
    "\n",
    "Paper: Galdos Xu etal. 2021"
   ]
  },
  {
   "cell_type": "markdown",
   "metadata": {},
   "source": [
    "CellPy has been formatted into a wrapper function that can be easily run through the command line of the Terminal.\n",
    "\n",
    "**NOTE:** All Python and XGBoost versions must remain the same throughout usage of all training, predicting, and feature ranking options. Ex) If Python 3.7 is used to train a dataset, Python 3.7 must be used to predict a query dataset using the trained dataset."
   ]
  },
  {
   "cell_type": "markdown",
   "metadata": {},
   "source": [
    "<a id='toc'></a>"
   ]
  },
  {
   "cell_type": "markdown",
   "metadata": {},
   "source": [
    "# Table of Contents\n",
    "\n",
    "1) [Pre-CellPy Data Preparation](precellpy_tutorial.ipynb#precellpy)\n",
    "\n",
    "2) [CellPy Train](train_tutorial.ipynb#train)\n",
    "\n",
    "3) [CellPy Predict](predict_tutorial.ipynb#predict)\n",
    "\n",
    "4) [CellPy Feature Ranking](featureranking_tutorial.ipynb#featureranking)\n",
    "\n",
    "5) [Post-CellPy R Analysis](postcellpy_tutorial.ipynb#postcellpy)\n",
    "\n",
    "6) [Cardiac Developmental Atlas Option](cardiacdevatlas_tutorial.ipynb#cardiac)\n",
    "\n",
    "7) [CellPy Run Options Summary and Examples](summary.ipynb#summary)\n",
    "\n",
    "8) [CellPy Code](code.ipynb#code)\n",
    "\n",
    "9) [References](references.ipynb#references)"
   ]
  }
 ],
 "metadata": {
  "kernelspec": {
   "display_name": "Python 3",
   "language": "python",
   "name": "python3"
  },
  "language_info": {
   "codemirror_mode": {
    "name": "ipython",
    "version": 3
   },
   "file_extension": ".py",
   "mimetype": "text/x-python",
   "name": "python",
   "nbconvert_exporter": "python",
   "pygments_lexer": "ipython3",
   "version": "3.7.1"
  }
 },
 "nbformat": 4,
 "nbformat_minor": 4
}
